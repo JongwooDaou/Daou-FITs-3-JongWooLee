{
  "nbformat": 4,
  "nbformat_minor": 0,
  "metadata": {
    "colab": {
      "provenance": [],
      "authorship_tag": "ABX9TyMvtw+28dfCHS1AbMj1W4Ij",
      "include_colab_link": true
    },
    "kernelspec": {
      "name": "python3",
      "display_name": "Python 3"
    },
    "language_info": {
      "name": "python"
    }
  },
  "cells": [
    {
      "cell_type": "markdown",
      "metadata": {
        "id": "view-in-github",
        "colab_type": "text"
      },
      "source": [
        "<a href=\"https://colab.research.google.com/github/JongwooDaou/Daou-FITs-3-JongWooLee/blob/%EC%8B%A4%EC%8A%B5/%5BCS%5D20250103-%EC%8B%A4%EC%8A%B513%EB%B2%88.ipynb\" target=\"_parent\"><img src=\"https://colab.research.google.com/assets/colab-badge.svg\" alt=\"Open In Colab\"/></a>"
      ]
    },
    {
      "cell_type": "code",
      "execution_count": 12,
      "metadata": {
        "colab": {
          "base_uri": "https://localhost:8080/"
        },
        "id": "4j2bA5XvaH4E",
        "outputId": "8b380ca2-64ec-46dd-f602-d2f657236e15"
      },
      "outputs": [
        {
          "output_type": "execute_result",
          "data": {
            "text/plain": [
              "[1, 2, 3, 4, 5, 6]"
            ]
          },
          "metadata": {},
          "execution_count": 12
        }
      ],
      "source": [
        "#배열의 요소 추가/삽입\n",
        "arr = [1,2,3]\n",
        "arr.append(4)\n",
        "arr.insert(1,10)\n",
        "arr_ones = [1]*5\n",
        "\n",
        "arr, arr_ones\n",
        "#배열의 요소수정\n",
        "arr1 = [1,2,3,4,5]\n",
        "arr1[2] = 99\n",
        "arr1\n",
        "#배열 요소 삭제\n",
        "arr2 = [10,20,30,40,50]\n",
        "arr2.remove(30)\n",
        "arr2.pop()\n",
        "arr2.pop(0)\n",
        "arr2\n",
        "#배열 합치기\n",
        "arr3 = [1,2,3]\n",
        "arr4 = [4,5,6]\n",
        "arr5 = arr3 + arr4\n",
        "arr3.extend(arr4)\n",
        "arr3"
      ]
    }
  ]
}
