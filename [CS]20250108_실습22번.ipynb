{
  "nbformat": 4,
  "nbformat_minor": 0,
  "metadata": {
    "colab": {
      "provenance": [],
      "authorship_tag": "ABX9TyMs8eBwpZ6KBfWZHTFxrdGj",
      "include_colab_link": true
    },
    "kernelspec": {
      "name": "python3",
      "display_name": "Python 3"
    },
    "language_info": {
      "name": "python"
    }
  },
  "cells": [
    {
      "cell_type": "markdown",
      "metadata": {
        "id": "view-in-github",
        "colab_type": "text"
      },
      "source": [
        "<a href=\"https://colab.research.google.com/github/JongwooDaou/Daou-FITs-3-JongWooLee/blob/%EC%8B%A4%EC%8A%B5/%5BCS%5D20250108_%EC%8B%A4%EC%8A%B522%EB%B2%88.ipynb\" target=\"_parent\"><img src=\"https://colab.research.google.com/assets/colab-badge.svg\" alt=\"Open In Colab\"/></a>"
      ]
    },
    {
      "cell_type": "code",
      "execution_count": 12,
      "metadata": {
        "id": "zOX0eHiW9meT"
      },
      "outputs": [],
      "source": [
        "def add(a, b):\n",
        "  return a+b\n",
        "\n",
        "def subtranct(a, b):\n",
        "  return a-b"
      ]
    },
    {
      "cell_type": "code",
      "source": [
        "import unittest\n",
        "from mymodule import add, subtranct\n",
        "\n",
        "class TestMathFunctions(unittest.TestCase):\n",
        "  def test_add(self):\n",
        "    # 1 + 2 = 3 test\n",
        "    self.assertEqual(add(10, 5), 15)\n",
        "\n",
        "  def test_subtranct(self):\n",
        "    # 5 - 3 = 2 test\n",
        "    self.assertEqual(subtranct(5,3), 2)\n",
        "\n",
        "  def test_add_negative(self):\n",
        "    # -1 + -2 = -3 test\n",
        "    self.assertEqual(add(-1, -2), -3)\n",
        "\n",
        "  def test_subtranct_negative(self):\n",
        "    # -5 - -3 = -2 test\n",
        "    self.assertEqual(subtranct(-5, -3), -2)\n",
        "\n",
        "if __name__ == '__main__':\n",
        "  unittest.main(argv=['first-arg-is-ignored'], exit=False)"
      ],
      "metadata": {
        "colab": {
          "base_uri": "https://localhost:8080/"
        },
        "id": "E-6AOvDP-9WD",
        "outputId": "61d82e3b-3606-4fff-e7f4-b0e0b961ca24"
      },
      "execution_count": 15,
      "outputs": [
        {
          "output_type": "stream",
          "name": "stderr",
          "text": [
            "....\n",
            "----------------------------------------------------------------------\n",
            "Ran 4 tests in 0.013s\n",
            "\n",
            "OK\n"
          ]
        }
      ]
    }
  ]
}